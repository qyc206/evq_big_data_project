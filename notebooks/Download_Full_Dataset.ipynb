{
  "nbformat": 4,
  "nbformat_minor": 0,
  "metadata": {
    "colab": {
      "name": "Download_Full_Dataset.ipynb",
      "provenance": []
    },
    "kernelspec": {
      "name": "python3",
      "display_name": "Python 3"
    },
    "language_info": {
      "name": "python"
    }
  },
  "cells": [
    {
      "cell_type": "markdown",
      "metadata": {
        "id": "dlLiqrGksiAL"
      },
      "source": [
        "# Download Full Dataset: 311 Service Requests from 2010 to Present\n",
        "\n",
        "Run the following cells to download the full [311 Service Requests from 2010 to Present](https://data.cityofnewyork.us/Social-Services/311-Service-Requests-from-2010-to-Present/erm2-nwe9) dataset from the NYC OpenData site."
      ]
    },
    {
      "cell_type": "markdown",
      "metadata": {
        "id": "9vOgzG4ltiiB"
      },
      "source": [
        "To download the full dataset, we need to first get the unique identifier for the [311 Service Requests from 2010 to Present](https://data.cityofnewyork.us/Social-Services/311-Service-Requests-from-2010-to-Present/erm2-nwe9) dataset. Run the following cells to view a list of datasets along with their unique identifiers from NYC Open Data that conatin the keywords \"service\" and \"request\" in their names.\n",
        "\n",
        "(**Note:** please run cell with \"%pip install openclean\" if openclean is not yet installed)"
      ]
    },
    {
      "cell_type": "code",
      "metadata": {
        "id": "cBzRt7FSsce_"
      },
      "source": [
        "# Install openclean (run this cell if it is not yet installed)\n",
        "%pip install openclean"
      ],
      "execution_count": null,
      "outputs": []
    },
    {
      "cell_type": "code",
      "metadata": {
        "colab": {
          "base_uri": "https://localhost:8080/"
        },
        "id": "6bQYITP-tR8o",
        "outputId": "654d86b6-1178-4291-8330-346fbd7c1735"
      },
      "source": [
        "# List all datasets from NYC Open Data that contain 'service'\n",
        "# and 'requests' in their name\n",
        "\n",
        "from openclean.data.source.socrata import Socrata\n",
        "\n",
        "for dataset in Socrata().catalog(domain='data.cityofnewyork.us'):\n",
        "    if 'service' in dataset.name.lower() and 'requests' in dataset.name.lower():\n",
        "        print(f'{dataset.identifier}\\t{dataset.domain}\\t{dataset.name}')"
      ],
      "execution_count": 2,
      "outputs": [
        {
          "output_type": "stream",
          "name": "stdout",
          "text": [
            "erm2-nwe9\tdata.cityofnewyork.us\t311 Service Requests from 2010 to Present\n",
            "3rfa-3xsf\tdata.cityofnewyork.us\t311 Service Requests for 2009\n",
            "sqcr-6mww\tdata.cityofnewyork.us\t311 Service Requests for 2004\n",
            "uzcy-9puk\tdata.cityofnewyork.us\t311 Service Requests for 2008\n",
            "hy4q-igkk\tdata.cityofnewyork.us\t311 Service Requests for 2006\n",
            "mu46-p9is\tdata.cityofnewyork.us\tForestry Service Requests\n",
            "sxmw-f24h\tdata.cityofnewyork.us\t311 Service Requests for 2005\n",
            "aiww-p3af\tdata.cityofnewyork.us\t311 Service Requests for 2007\n",
            "mcti-yg8i\tdata.cityofnewyork.us\tMOIA In-person Interpretation Service Requests\n"
          ]
        }
      ]
    },
    {
      "cell_type": "markdown",
      "metadata": {
        "id": "8pvi0UGBtnkc"
      },
      "source": [
        "Once the unique identifier is obtained (i.e. \"erm2-nwe9\" for [311 Service Requests from 2010 to Present](https://data.cityofnewyork.us/Social-Services/311-Service-Requests-from-2010-to-Present/erm2-nwe9)), we can download the entire dataset. Run the following cells to download the full dataset in a compressed file (this process may take around 2 hours).\n",
        "\n",
        "(**Note:** please run cell with \"%pip install humanfriendly\" if humanfriendly is not yet installed)"
      ]
    },
    {
      "cell_type": "code",
      "metadata": {
        "id": "NZC1vPwQtfFd"
      },
      "source": [
        "# Install humanfriendly (run this cell if it is not yet installed)\n",
        "%pip install humanfriendly"
      ],
      "execution_count": null,
      "outputs": []
    },
    {
      "cell_type": "code",
      "metadata": {
        "id": "SHhfxSsxtxAf"
      },
      "source": [
        "# Download the full '311 Service Requests from 2010 to Present' dataset\n",
        "\n",
        "import gzip\n",
        "import humanfriendly\n",
        "import os\n",
        "\n",
        "dataset = Socrata().dataset('erm2-nwe9')  # (NOTE: 'erm2-nwe9' = unique identifier)\n",
        "\n",
        "# (NOTE: replace 'erm2-nwe9' with your unique identifier if it is different)\n",
        "datafile = './dataset/erm2-nwe9.tsv.gz'\n",
        "\n",
        "# Download file only if it does not exist already.\n",
        "if not os.path.isfile(datafile):\n",
        "    with gzip.open(datafile, 'wb') as f:\n",
        "        print('Downloading ...\\n')\n",
        "        dataset.write(f)\n",
        "\n",
        "\n",
        "fsize = humanfriendly.format_size(os.stat(datafile).st_size)\n",
        "print(\"Using '{}' in file {} of size {}\".format(dataset.name, datafile, fsize))"
      ],
      "execution_count": null,
      "outputs": []
    }
  ]
}