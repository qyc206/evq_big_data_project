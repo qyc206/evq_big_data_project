{
  "nbformat": 4,
  "nbformat_minor": 0,
  "metadata": {
    "colab": {
      "name": "Profiling_Dataset_peel.ipynb",
      "provenance": [],
      "collapsed_sections": []
    },
    "kernelspec": {
      "name": "python3",
      "display_name": "Python 3"
    },
    "language_info": {
      "name": "python"
    }
  },
  "cells": [
    {
      "cell_type": "markdown",
      "source": [
        "# ****IMPORTANT NOTE:**\n",
        "\n",
        "This notebook is for VIEW ONLY. To test and run the notebook, please download, upload and run the zeppelin notebook on Peel: [Profiling_Dataset_peel.zpln](https://github.com/qyc206/evq_big_data_project/blob/main/notebooks/part2/Profiling_Dataset_peel.zpln)."
      ],
      "metadata": {
        "id": "jy32UB5Er-qM"
      }
    },
    {
      "cell_type": "markdown",
      "source": [
        "# Profiling \n",
        "\n",
        "This notebook goes over the problems that we found while exploring the sample dataset (i.e. the sample dataset with ~5 million rows). We broke down the problems that we found into the following sections: Uniformity, Accuracy, Inconsistency, Completeness, and Outlier. Each section will contain cells that can be run to explore the dataset and observe the problems that we found.\n",
        "\n",
        "This notebook is also used to profile the datasets that are found to be similar to the initial 311 service report dataset profiled and cleaned in part one of the project. "
      ],
      "metadata": {
        "id": "ShGCb5gypqtu"
      }
    },
    {
      "cell_type": "markdown",
      "source": [
        "## Upload the dataset to Peel cluster & Define dataset path\n",
        "\n",
        "Before continuing, make sure your dataset is available on Peel HDFS. If your dataset is on your local machine, you can copy them to the login node of the cluster and move them to your user directory in the HDFS using the following commands:\n",
        "\n",
        "```\n",
        "# Copy file from local machine to login node of the cluster\n",
        "mylaptop$ scp -r [FILENAME] <net_id>@peel.hpc.nyu.edu:~/\n",
        "\n",
        "# Move file from cluster login node to your user directory in HDFS \n",
        "# (your file will be in the path \"/user/[netid]/[FILENAME]\")\n",
        "hfs -put [FILENAME]\n",
        "```\n",
        "\n",
        "Make sure you can locate your dataset before continuing onwards."
      ],
      "metadata": {
        "id": "vDvnuGzBpwm7"
      }
    },
    {
      "cell_type": "code",
      "execution_count": null,
      "metadata": {
        "id": "iQ58TQPhpdDj"
      },
      "outputs": [],
      "source": [
        "%pyspark\n",
        "\n",
        "# Define path to dataset on Peel HDFS (NOTE: replace file name with your own if different)\n",
        "dataset_path = \"/user/CS-GY-6513/project_data/data-cityofnewyork-us.erm2-nwe9.csv\""
      ]
    },
    {
      "cell_type": "markdown",
      "source": [
        "## Set up Spark Session\n",
        "\n",
        "Now that the dataset is uploaded and the path is defined, we need to set up pyspark to begin profiling and exploring our dataset. \n",
        "\n",
        "If this notebook is run in an environment where pyspark is not yet installed, please add a new cell BEFORE the next cell and run the following command:\n",
        "\n",
        "```\n",
        "# Run this command if pyspark is not already installed\n",
        "%pip install pyspark\n",
        "```\n"
      ],
      "metadata": {
        "id": "8UDpyQ74p2yj"
      }
    },
    {
      "cell_type": "code",
      "source": [
        "%pyspark \n",
        "\n",
        "# Set up pyspark session\n",
        "from pyspark.sql import SparkSession\n",
        "\n",
        "spark = SparkSession \\\n",
        "            .builder \\\n",
        "            .appName(\"Python Spark SQL basic example\") \\\n",
        "            .config(\"spark.some.config.option\", \"some-value\") \\\n",
        "            .config(\"spark.executor.memory\", \"20g\") \\\n",
        "            .config(\"spark.driver.memory\", \"20g\") \\\n",
        "            .getOrCreate()"
      ],
      "metadata": {
        "id": "BuTe75PXp45p"
      },
      "execution_count": null,
      "outputs": []
    },
    {
      "cell_type": "markdown",
      "source": [
        "**WARNING: If you run into a java heap memory, configure the following lines in the cell above:\n",
        "\n",
        ".config(\"spark.executor.memory\", \"30g\")\n",
        ".config(\"spark.driver.memory\", \"30g\")\n",
        "Change the number infront of the g (ex:20g)\n",
        "\n",
        "Changing this number could also change the amount of RAM needed to download the final file\n"
      ],
      "metadata": {
        "id": "R9qRboWIp7Sz"
      }
    },
    {
      "cell_type": "markdown",
      "source": [
        "## Load dataset using spark\n",
        "\n",
        "Run the following lines to load the dataset using spark and test to make sure that dataset is properly loaded."
      ],
      "metadata": {
        "id": "oeXebJcsqAHY"
      }
    },
    {
      "cell_type": "code",
      "source": [
        "%pyspark\n",
        "\n",
        "# Load dataset\n",
        "df = spark.read.format('csv').options(header='true',inferschema='true').load(dataset_path)\n",
        "# (Note: change \"311_service_report\" to a name that better suits your dataset, if different)\n",
        "df.createOrReplaceTempView(\"311_service_report\") "
      ],
      "metadata": {
        "id": "EeD1RHiap8-2"
      },
      "execution_count": null,
      "outputs": []
    },
    {
      "cell_type": "code",
      "source": [
        "%pyspark\n",
        "\n",
        "# Check if the dataset is properly loaded by printing its schema\n",
        "df.printSchema()"
      ],
      "metadata": {
        "id": "fo_AhGANqCot"
      },
      "execution_count": null,
      "outputs": []
    },
    {
      "cell_type": "markdown",
      "source": [
        "Notice in the result of running the above cell that most items in the schema is of type string, even if it is not the expected type. To modify the dataset such that the types of each column is what we would expect, we perform type casting for each column that should not be type string.\n",
        "\n",
        "**NOTE: the following cell is specific for the 311 service report dataset; make sure to modify the following cell to include type casting that is necessary to your dataset, if different"
      ],
      "metadata": {
        "id": "FKVabkpoqEqF"
      }
    },
    {
      "cell_type": "code",
      "source": [
        "%pyspark\n",
        "\n",
        "from pyspark.sql.types import IntegerType, DoubleType\n",
        "from pyspark.sql.functions import to_timestamp\n",
        "\n",
        "# Type casting to expected types\n",
        "df = df.withColumn(\"Unique Key\",df[\"Unique Key\"].cast(IntegerType()))\n",
        "df = df.withColumn(\"Due Date\",to_timestamp(df[\"Due Date\"],\"MM/dd/yyyy hh:mm:ss a\"))\n",
        "df = df.withColumn(\"Created Date\", to_timestamp(df[\"Created Date\"],\"MM/dd/yyyy hh:mm:ss a\"))\n",
        "df = df.withColumn(\"Closed Date\",to_timestamp(df[\"Closed Date\"],\"MM/dd/yyyy hh:mm:ss a\"))\n",
        "df = df.withColumn(\"Incident Zip\",df[\"Incident Zip\"].cast(IntegerType()))\n",
        "df = df.withColumn(\"BBL\",df[\"BBL\"].cast(IntegerType()))\n",
        "df = df.withColumn(\"X Coordinate (State Plane)\",df[\"X Coordinate (State Plane)\"].cast(IntegerType()))\n",
        "df = df.withColumn(\"Y Coordinate (State Plane)\",df[\"Y Coordinate (State Plane)\"].cast(IntegerType()))\n",
        "df = df.withColumn(\"Resolution Action Updated Date\",to_timestamp(df[\"Resolution Action Updated Date\"],\"MM/dd/yyyy hh:mm:ss a\"))\n",
        "\n",
        "# (Note: change \"311_service_report\" to a name that better suits your dataset, if different)\n",
        "df.createOrReplaceTempView(\"311_service_report\")\n",
        "\n",
        "df.printSchema()"
      ],
      "metadata": {
        "id": "2NT71duWqGWP"
      },
      "execution_count": null,
      "outputs": []
    },
    {
      "cell_type": "markdown",
      "source": [
        "Now that pyspark is set up and the columns of the dataset are updated to types that we expect, we can start using pyspark to explore the dataset!"
      ],
      "metadata": {
        "id": "Zgfa1EpYqLKv"
      }
    },
    {
      "cell_type": "markdown",
      "source": [
        "## I. Uniformity\n",
        "\n",
        "We describe uniform data as data that use the same format and unit of measure. As we explored the 311 service report dataset, we found five columns with values that have non-uniform casing (i.e. some values are fully uppercased, some are fully lowercased, and some only have the first letter of each word uppercased).\n",
        "\n",
        "Run through the following cells to observe the problem in the five columns.\n",
        "\n",
        "**NOTE: to profile for uniformity in columns specific for your dataset, run the following command: \n",
        "```\n",
        "# Replace the [COLUMN_NAME] with the column that you want to profile\n",
        "df.select([COLUMN_NAME]).distinct().collect()\n",
        "\n",
        "# Use .head([NUMBER_OF_ROWS_TO_DISPLAY]) instead if the result is too large for display\n",
        "df.select([COLUMN_NAME]).distinct().head(20)\n",
        "```"
      ],
      "metadata": {
        "id": "aW_o8IYgqOCy"
      }
    },
    {
      "cell_type": "markdown",
      "source": [
        "Run the following cell and notice that the \"Descriptor\" column has the same problem of non-uniform casing, as previously observed in \"Complaint Type\" column. If observed carefully, a row with \"Sidewalk CafÃ©\" can be found. This problem will brought up again in the Accuracy section."
      ],
      "metadata": {
        "id": "6pkwNEVyqQNT"
      }
    },
    {
      "cell_type": "code",
      "source": [
        "%pyspark\n",
        "\n",
        "# View column \"Descriptor\" \n",
        "df.select(\"Descriptor\").distinct().collect()"
      ],
      "metadata": {
        "id": "MP5G1vziqMg9"
      },
      "execution_count": null,
      "outputs": []
    },
    {
      "cell_type": "markdown",
      "source": [
        "Run the following cell and notice that the \"Location Type\" column is generally uniform except for the rows with the value \"RESIDENTIAL BUILDING\", \"3+ Family ApT\", and \"3+ Family Apt.\"."
      ],
      "metadata": {
        "id": "i3uYpCu1qSl6"
      }
    },
    {
      "cell_type": "code",
      "source": [
        "%pyspark\n",
        "\n",
        "# View column \"Location Type\"\n",
        "df.select(\"Location Type\").distinct().collect()"
      ],
      "metadata": {
        "id": "QMuw47SpqT3Z"
      },
      "execution_count": null,
      "outputs": []
    },
    {
      "cell_type": "markdown",
      "source": [
        "Run the following cell and notice that the \"Street Name\" column has non-uniform casing as well (ex: one row has \"Lenox Road\" while majority of the rows are uppercased like \"ALBERTA AVE\")."
      ],
      "metadata": {
        "id": "K-D_Pv30qV2t"
      }
    },
    {
      "cell_type": "code",
      "source": [
        "%pyspark\n",
        "\n",
        "# View column \"Street Name\" \n",
        "df.select(\"Street Name\").distinct().head(200)"
      ],
      "metadata": {
        "id": "4nR-FEPJqXE-"
      },
      "execution_count": null,
      "outputs": []
    },
    {
      "cell_type": "markdown",
      "source": [
        "Run the following cell and notice that the \"City\" column has nonuniform casing (ex: one row has \"New York\" while majority of the rows are all uppercased like \"ROCKVILLE CENTER\")."
      ],
      "metadata": {
        "id": "DHJCn2LsqY1-"
      }
    },
    {
      "cell_type": "code",
      "source": [
        "%pyspark\n",
        "\n",
        "# View column \"City\"\n",
        "df.select(\"City\").distinct().collect()"
      ],
      "metadata": {
        "id": "qVKGueXfqZ7O"
      },
      "execution_count": null,
      "outputs": []
    },
    {
      "cell_type": "markdown",
      "source": [
        "## II. Accuracy\n",
        "\n",
        "We describe accurate data as data that is close to the true, expected values. As we explored our dataset, we found that there are several inaccurate cities in the city column. To explore the accuracy in the city column, we found and downloadeded a dataset ([uszips.csv](https://drive.google.com/file/d/1qd2cXgTx-h-hRd0C7z2s_U4O8VYLAXA7/view?usp=sharing)) that contains information such as US zipcode, state name, city, etc. We use this dataset as baseline to compare to our dataset to find any inaccuracies, such as misspellings. \n",
        "\n",
        "Before we start, make sure to download and upload the [uszips.csv](https://drive.google.com/file/d/1qd2cXgTx-h-hRd0C7z2s_U4O8VYLAXA7/view?usp=sharing) dataset into HDFS just as described in the previous \"Upload the dataset to Peel cluster & Define dataset path\" section. After the reference dataset is downloaded and uploaded into HDFS, run the cells to define the dataset path and make sure the dataset can be read."
      ],
      "metadata": {
        "id": "oS4-TMW5qbwn"
      }
    },
    {
      "cell_type": "code",
      "source": [
        "%pyspark\n",
        "\n",
        "# Define path for US zip dataset\n",
        "# (Note: make sure to update to your netid and dataset name)\n",
        "uszip_path = \"/user/qyc206/uszips.csv\""
      ],
      "metadata": {
        "id": "aSLJPGQkqfZ8"
      },
      "execution_count": null,
      "outputs": []
    },
    {
      "cell_type": "code",
      "source": [
        "%pyspark\n",
        "\n",
        "# Read the US zip dataset\n",
        "us = spark.read.csv(uszip_path, header=True)\n",
        "us = us.withColumn(\"zip\",us[\"zip\"].cast(IntegerType()))\n",
        "us = us.withColumn(\"lat\",us[\"lat\"].cast(DoubleType()))\n",
        "us = us.withColumn(\"lng\",us[\"lng\"].cast(DoubleType()))\n",
        "us.show()"
      ],
      "metadata": {
        "id": "BLMWZTbRqhMO"
      },
      "execution_count": null,
      "outputs": []
    },
    {
      "cell_type": "markdown",
      "source": [
        "Once the dataset is uploaded, run the following cells to observe the problem.\n",
        "\n",
        "**NOTE: if your city column has a different column name, update \"City\" to your column name"
      ],
      "metadata": {
        "id": "Bgnkn-Huqio_"
      }
    },
    {
      "cell_type": "markdown",
      "source": [
        "### Exploring City column"
      ],
      "metadata": {
        "id": "RFVYUptmqnB0"
      }
    },
    {
      "cell_type": "code",
      "source": [
        "%pyspark\n",
        "\n",
        "# All distinct cities present in the dataset\n",
        "temp_df_1 = df.select(\"City\").distinct() \n",
        "list_of_cities = list(temp_df_1.toPandas()['City']) \n",
        "\n",
        "# All cities present in the US zip dataset\n",
        "list_of_correct_cities =  list(us.select(\"city\").distinct().toPandas()['city']) "
      ],
      "metadata": {
        "id": "FwXoy5FFqlDw"
      },
      "execution_count": null,
      "outputs": []
    },
    {
      "cell_type": "code",
      "source": [
        "%pyspark\n",
        "\n",
        "list_of_wrong_cities = []\n",
        "\n",
        "for i in list_of_cities:\n",
        "  if i not in list_of_correct_cities:\n",
        "    list_of_wrong_cities.append(i)\n",
        "\n",
        "# First 20 mispelled words\n",
        "list_of_wrong_cities[:20] "
      ],
      "metadata": {
        "id": "1YRpf1ttqqAB"
      },
      "execution_count": null,
      "outputs": []
    },
    {
      "cell_type": "markdown",
      "source": [
        "As we can observe from the results of running the cells, there are inaccuracies in the cities that are listed in the city column of our 311 service dataset. For instance, \"NEW JERSEY\" is a state, not a city and \"HUSTON\" is a misspelling for Houston, a city in Texas."
      ],
      "metadata": {
        "id": "3wYqIFPWqq5s"
      }
    },
    {
      "cell_type": "markdown",
      "source": [
        "### Exploring Complaint Type column"
      ],
      "metadata": {
        "id": "9aj-Jb2oqt9R"
      }
    },
    {
      "cell_type": "markdown",
      "source": [
        "Another problem with accuracy that we find is in the \"Complaint Type\" column, as observed also during the profiling for uniformity problems. Run the following cells to further explore this problem.\n",
        "\n",
        "**NOTE: you can replace \"Complaint Type\" in the following cell with your specific column name to search for accuracy problems in your dataset, if different & if you are using your a different column for your own dataset, make sure to modify the pattern (of valid symbols) based on your expected contents."
      ],
      "metadata": {
        "id": "tJU98LbSqu3u"
      }
    },
    {
      "cell_type": "code",
      "source": [
        "%pyspark\n",
        "from pyspark.sql.functions import col"
      ],
      "metadata": {
        "id": "o24Gj4Rdqr94"
      },
      "execution_count": null,
      "outputs": []
    },
    {
      "cell_type": "code",
      "source": [
        "%pyspark\n",
        "\n",
        "# Define regular expression pattern\n",
        "pattern = \"^[-a-zA-Z0-9\\s\\(\\)\\.\\/]*$\""
      ],
      "metadata": {
        "id": "nQHFUiFXqzBv"
      },
      "execution_count": null,
      "outputs": []
    },
    {
      "cell_type": "code",
      "source": [
        "%pyspark\n",
        "\n",
        "# Get distinct values of column \"Complaint Type\" \n",
        "df_distinct_complaints = df.select(\"Complaint Type\").distinct()"
      ],
      "metadata": {
        "id": "-RqIZ4pOq0g3"
      },
      "execution_count": null,
      "outputs": []
    },
    {
      "cell_type": "code",
      "source": [
        "%pyspark\n",
        "\n",
        "# View rows with special characters\n",
        "df_distinct_complaints.filter(~col(\"Complaint Type\").rlike(pattern)).collect()"
      ],
      "metadata": {
        "id": "t95mFD5Lq154"
      },
      "execution_count": null,
      "outputs": []
    },
    {
      "cell_type": "markdown",
      "source": [
        "### Exploring Descriptor column\n",
        "\n",
        "Run the following cell to observe similar problems as shown for the Complaint Type column. \n",
        "\n",
        "NOTE: make sure to run the first cell under the previous \"Exploring Complaint Type column\" section BEFORE running the following cells & if you are using your a different column for your own dataset, make sure to modify the pattern (of valid symbols) based on your expected contents."
      ],
      "metadata": {
        "id": "bs2Xh3Lzq5u5"
      }
    },
    {
      "cell_type": "code",
      "source": [
        "%pyspark\n",
        "\n",
        "# Define regular expression pattern\n",
        "pattern2 = \"^[-a-zA-Z0-9\\s\\(\\)\\.\\/\\,\\:\\*\\'\\&\\\"]*$\""
      ],
      "metadata": {
        "id": "9f_yyuuqq6HZ"
      },
      "execution_count": null,
      "outputs": []
    },
    {
      "cell_type": "code",
      "source": [
        "%pyspark\n",
        "\n",
        "# Get distinct values of column \"Descriptor\" \n",
        "df_distinct_descriptors = df.select(\"Descriptor\").distinct()"
      ],
      "metadata": {
        "id": "bxAj3XR8q7x9"
      },
      "execution_count": null,
      "outputs": []
    },
    {
      "cell_type": "code",
      "source": [
        "%pyspark\n",
        "\n",
        "# View rows with special characters\n",
        "df_distinct_descriptors.filter(~col(\"Descriptor\").rlike(pattern2)).collect()"
      ],
      "metadata": {
        "id": "Xu_N86qVq9NZ"
      },
      "execution_count": null,
      "outputs": []
    },
    {
      "cell_type": "markdown",
      "source": [
        "## III. Inconsistency\n",
        "\n",
        "We describe inconsistent data as data that contains values that contradict each other or contains value that is not what we would expect based on the column that it is in. As we explored our dataset, we observed inconsistency problems in both the Agency and Agency Name columns in the 311 service dataset. We attempted to find a dataset that might contain all agency names and information, but we could not find a complete dataset. Instead, we decided to create our own custom dataset using the data from https://www1.nyc.gov/nyc-resources/agencies.page along with the addition of other agencies that showed up on the NYC open data website. Our dataset can be downloaded/accessed via this link: [NYC-Agency-Names.csv](https://drive.google.com/file/d/1EHpyXNOwCpv-NM0OTTqFBHeKikKpBtd1/view?usp=sharing). We use this dataset as baseline to compare to the corresponding columns in our 311 service dataset. "
      ],
      "metadata": {
        "id": "PCb71NjZq-Xf"
      }
    },
    {
      "cell_type": "markdown",
      "source": [
        "Just as before, make sure to download and upload the [NYC-Agency-Names.csv](https://drive.google.com/file/d/1EHpyXNOwCpv-NM0OTTqFBHeKikKpBtd1/view?usp=sharing) dataset into HDFS just as described in the previous “Upload the dataset to Peel cluster & Define dataset path” section. After the reference dataset is downloaded and uploaded into HDFS, run the cells to define the dataset path and make sure the dataset can be read."
      ],
      "metadata": {
        "id": "a7VIdNdzrAX1"
      }
    },
    {
      "cell_type": "code",
      "source": [
        "%pyspark\n",
        "\n",
        "# Define path for NYC Agency Names dataset\n",
        "# (Note: make sure to update to your netid and dataset name)\n",
        "nycAgencyNames_path = \"/user/qyc206/NYC-Agency-Names.csv\""
      ],
      "metadata": {
        "id": "dEHkcpgfq_00"
      },
      "execution_count": null,
      "outputs": []
    },
    {
      "cell_type": "code",
      "source": [
        "%pyspark\n",
        "\n",
        "# Read NYC Agency Names dataset \n",
        "agency_df = spark.read.csv(nycAgencyNames_path, header=True)\n",
        "\n",
        "# Show Schema for NYC Agency Names dataset\n",
        "agency_df.printSchema()"
      ],
      "metadata": {
        "id": "0qwR_hhOrDf3"
      },
      "execution_count": null,
      "outputs": []
    },
    {
      "cell_type": "markdown",
      "source": [
        "Once the dataset is uploaded, run the following cells to profile for problems.\n",
        "\n",
        "**NOTE: the following approaches can be used on corresponding columns from similar datasets; but make sure to change the column name accordingly in the cells"
      ],
      "metadata": {
        "id": "JUVWsNGJrFxn"
      }
    },
    {
      "cell_type": "markdown",
      "source": [
        "### Exploring Agency column"
      ],
      "metadata": {
        "id": "aAU-ZfA_rH90"
      }
    },
    {
      "cell_type": "code",
      "source": [
        "%pyspark\n",
        "\n",
        "# View data from Agency column\n",
        "from pyspark.sql.functions import asc\n",
        "\n",
        "df.select(\"Agency\").distinct().orderBy(asc(\"Agency\")).show(df.count(), False)"
      ],
      "metadata": {
        "id": "P1HNWMT7rGIR"
      },
      "execution_count": null,
      "outputs": []
    },
    {
      "cell_type": "code",
      "source": [
        "%pyspark\n",
        "\n",
        "# All distinct Agency present in the dataset\n",
        "temp_df2 = df.select(\"Agency\").distinct() \n",
        "list_of_agencies = list(temp_df2.toPandas()['Agency']) \n",
        "\n",
        "# All Agency present in the NYC Agency Names dataset\n",
        "list_of_correct_agencies = list(agency_df.select(\"Agency Acronym\").distinct().toPandas()['Agency Acronym']) "
      ],
      "metadata": {
        "id": "91jOJRJprKvD"
      },
      "execution_count": null,
      "outputs": []
    },
    {
      "cell_type": "code",
      "source": [
        "%pyspark\n",
        "\n",
        "# Show list of Agency that were not in the dataset with uniform names\n",
        "list_of_wrong_agencies = []\n",
        "\n",
        "for i in list_of_agencies:\n",
        "  if i not in list_of_correct_agencies:\n",
        "    list_of_wrong_agencies.append(i)\n",
        "\n",
        "# Show the first 20 in the list\n",
        "list_of_wrong_agencies[:20] "
      ],
      "metadata": {
        "id": "3dB-gD7grMa4"
      },
      "execution_count": null,
      "outputs": []
    },
    {
      "cell_type": "code",
      "source": [
        "%pyspark\n",
        "\n",
        "# Count how many rows have MAYORâ in the Agency column\n",
        "df.filter(df[\"Agency\"][0:6] == \"MAYORâ\").count()"
      ],
      "metadata": {
        "id": "0_dTx10_rOEx"
      },
      "execution_count": null,
      "outputs": []
    },
    {
      "cell_type": "markdown",
      "source": [
        "As we can observe from the results of running the previous cells, there is inconsistent data where every other value in the column in an acronym, but we also have \"MAYORâ\\x80\\x99S OFFICE OF SPECIAL ENFORCEMENT\", which is not an acronym. By counting, we find that the number of rows in Agency column that has \"MAYORâ\" as part of the value is 70,685. Theoretically, we would solve the issue by finding out if the corresponding \"Agency Name\" is in our database, but for this smaller dataset and for simpliciy sake, we plan to just filter these values out.\n",
        "\n",
        "Additionally, there is one minor problem where the apostrophe in \"Mayor's\" did not store correctly and turned into gibberish. Since this only happens in one specific case of \"MAYORâS OFFICE OF SPECIAL ENFORCEMENT\", the solution will be very specific to fix this problem.\n",
        "\n",
        "There also might be some inaccuracies which resulted in the other values like \"TAX\" and \"CEO\". Note that even though \"3-1-1\" showed up in the list above, it is actually correct; this is because it is listed in the NYC Agency Names dataset as \"311\" without the dashes."
      ],
      "metadata": {
        "id": "TVtM8d-7rPjM"
      }
    },
    {
      "cell_type": "markdown",
      "source": [
        "### Exploring Agency Name column"
      ],
      "metadata": {
        "id": "cb7ZJepvrSJa"
      }
    },
    {
      "cell_type": "code",
      "source": [
        "%pyspark\n",
        "\n",
        "# View data from Agency Name column\n",
        "df.select(\"Agency Name\").distinct().orderBy(asc(\"Agency Name\")).show(df.count(), False)"
      ],
      "metadata": {
        "id": "HSW2Y1dVrRg4"
      },
      "execution_count": null,
      "outputs": []
    },
    {
      "cell_type": "code",
      "source": [
        "%pyspark\n",
        "\n",
        "# All distinct Agency Name present in the dataset\n",
        "temp_df3 = df.select(\"Agency Name\").distinct() \n",
        "list_of_agency_names = list(temp_df3.toPandas()['Agency Name']) \n",
        "\n",
        "# All Agency present in the NYC Agency Names dataset\n",
        "list_of_correct_agency_names=  list(agency_df.select(\"Agency\").distinct().toPandas()['Agency']) "
      ],
      "metadata": {
        "id": "wBNIVW2krVCn"
      },
      "execution_count": null,
      "outputs": []
    },
    {
      "cell_type": "code",
      "source": [
        "%pyspark\n",
        "\n",
        "# Show list of non uniform names in the Agency Name Column\n",
        "list_of_wrong_agency_names = []\n",
        "\n",
        "for i in list_of_agency_names:\n",
        "  if (i[0:6] != \"School\") and i not in list_of_correct_agency_names:\n",
        "    list_of_wrong_agency_names.append(i)\n",
        "\n",
        "# Show entire list\n",
        "for j in list_of_wrong_agency_names:\n",
        "  print(j)"
      ],
      "metadata": {
        "id": "QmVHY0GxrWh3"
      },
      "execution_count": null,
      "outputs": []
    },
    {
      "cell_type": "code",
      "source": [
        "%pyspark\n",
        "\n",
        "# Count how many rows have \"School\" as part of the value in the Agency Name column\n",
        "df.filter((df[\"Agency Name\"][0:6] == \"School\")).count()"
      ],
      "metadata": {
        "id": "uZvv44FhrYf7"
      },
      "execution_count": null,
      "outputs": []
    },
    {
      "cell_type": "code",
      "source": [
        "%pyspark\n",
        "\n",
        "# Count how many rows have \"School\" as part of the value in Agency Name and \"DOE\" in Agency column\n",
        "df.filter((df[\"Agency Name\"][0:6] == \"School\") & (df[\"Agency\"] == \"DOE\")).count()"
      ],
      "metadata": {
        "id": "3eRdAy_LrYxA"
      },
      "execution_count": null,
      "outputs": []
    },
    {
      "cell_type": "markdown",
      "source": [
        "As we can observe from the results above, there are several inconsistencies and other problems, including misspellings, uneven uppercase/lowercase usage, different titles (ex: \"The Department of...\" vs \"Department of...\"), and acronyms are being used despite there being an actual name to the department (ex: NYPD vs using New York Police Department). There are also many schools that are listed that are not technically agencies due to the DOE. However, for this specific case, if a school is listed with DOE for the Agency in the same row, we will leave this alone as we know this is most likely correct because we can observe that the number of agency names that are schools is equivalent to the number of values that have agency name that is a school and agency that is DOE. This school data is too detailed and can potentially be used for other purposes, so we decided that it should not be taken out of the dataset."
      ],
      "metadata": {
        "id": "XdefbuQArbUc"
      }
    },
    {
      "cell_type": "markdown",
      "source": [
        "## IV. Completeness\n",
        "\n",
        "We describe a complete dataset as a dataset that contains all required data. While exploring our dataset, we found that several values in the city column are null (i.e. missing).\n",
        "\n",
        "Run the following cells to view the observation.\n",
        "\n",
        "**NOTE: the following approaches can be used on corresponding columns from similar datasets; but make sure to change the column name accordingly in the cells"
      ],
      "metadata": {
        "id": "x4XMHOxorfFn"
      }
    },
    {
      "cell_type": "markdown",
      "source": [
        "### Exploring City column"
      ],
      "metadata": {
        "id": "9498FiPWrhW8"
      }
    },
    {
      "cell_type": "code",
      "source": [
        "%pyspark\n",
        "\n",
        "from pyspark.sql.functions import desc\n",
        "\n",
        "# Display number of values in city column\n",
        "df.groupBy('City').count().orderBy(desc(\"count\")).show(df.count(), False)"
      ],
      "metadata": {
        "id": "aKSdit6drc7D"
      },
      "execution_count": null,
      "outputs": []
    },
    {
      "cell_type": "markdown",
      "source": [
        "From the results above, we can see that there are 1,690,360 rows in the City column that contain null values."
      ],
      "metadata": {
        "id": "WHUf0ZVlrjZH"
      }
    },
    {
      "cell_type": "markdown",
      "source": [
        "### Exploring Address Type column\n",
        "\n",
        "Another factor of Completeness that we should keep a look out for involves the Address Type Column. This Column is integral for figuring out what columns holds the location information we are looking for. For example, the address type \"ADDRESS\" Most likely corresponds with the Incident Address field.\n",
        "\n",
        "To figure out what Address Type corresponds to what location values, we would have to map out the amount of times non null values appeared in each column per different type. If there is a significant amount of data that appears when calling a certain address type, then that column most likely is associated with that type.\n",
        "\n",
        "Ideally, this Address Type Column should not be null, and if it is, then the columns that could hold information about the Address should also be null.\n",
        "\n",
        "If the Address Type Column is not NULL, then we should also be checking if the correct Address Columns are filled while the rest of the address columns are null."
      ],
      "metadata": {
        "id": "ZAuws2ePrmlI"
      }
    },
    {
      "cell_type": "code",
      "source": [
        "%pyspark\n",
        "\n",
        "# Show the distinct address types\n",
        "df.select(\"Address Type\").distinct().show(df.count(), False)"
      ],
      "metadata": {
        "id": "GVv3us5zrkwz"
      },
      "execution_count": null,
      "outputs": []
    },
    {
      "cell_type": "code",
      "source": [
        "%pyspark\n",
        "\n",
        "from pyspark.sql.functions import desc\n",
        "\n",
        "# Count how many rows of each address types there are\n",
        "df.groupBy('Address Type').count().orderBy(desc(\"count\")).show(df.count(), False)"
      ],
      "metadata": {
        "id": "8gCEi6jerpLi"
      },
      "execution_count": null,
      "outputs": []
    },
    {
      "cell_type": "code",
      "source": [
        "%pyspark\n",
        "\n",
        "# Check to see if Incident Addressing is associated with the ADDRESS type\n",
        "df.filter((df[\"Address Type\"] == \"ADDRESS\") & df[\"Incident Address\"].isNotNull()).count()"
      ],
      "metadata": {
        "id": "Rtuz2kmwrqX8"
      },
      "execution_count": null,
      "outputs": []
    },
    {
      "cell_type": "markdown",
      "source": [
        "## V. Outlier\n",
        "\n",
        "We describe an outlier as data that is significantly different from all other data in the dataset. To find potential outliers, we looked at the minimum and maximum dates in columns with timestamp types (i.e. \"Created Date\", \"Closed Date\", \"Due Date\", and \"Resolution Action Updated Date\"). We found outliers in three of the four columns with timestamp types.\n",
        "\n",
        "Run the following cells to explore the columns with timestamp types.\n",
        "\n",
        "**NOTE: the following approaches can be used on corresponding columns from similar datasets; but make sure to change the column name accordingly in the cells"
      ],
      "metadata": {
        "id": "YUnJLhrCrsRW"
      }
    },
    {
      "cell_type": "code",
      "source": [
        "%pyspark\n",
        "\n",
        "# Import libraries\n",
        "from pyspark.sql import Row\n",
        "from pyspark.sql.functions import min, max"
      ],
      "metadata": {
        "id": "x1N0FpnArtm-"
      },
      "execution_count": null,
      "outputs": []
    },
    {
      "cell_type": "markdown",
      "source": [
        "\"Created Date\" column seems to have the expected minimum and maximum values for dates in our 311 service dataset. Run the following cell to view this observation."
      ],
      "metadata": {
        "id": "XGuUX24MrwVw"
      }
    },
    {
      "cell_type": "code",
      "source": [
        "%pyspark\n",
        "\n",
        "# View min and max dates for Created Date\n",
        "df.select(min(\"Created Date\"),max(\"Created Date\")).show(df.count(), False)"
      ],
      "metadata": {
        "id": "EPueRnJrrxnc"
      },
      "execution_count": null,
      "outputs": []
    },
    {
      "cell_type": "markdown",
      "source": [
        "\"Closed Date\", \"Due Date\", and \"Resolution Action Updated Date\" columns can be observed to have outlier dates that clearly should not exist in our dataset. Run the following cells to view this observation."
      ],
      "metadata": {
        "id": "AmE511l2rzOd"
      }
    },
    {
      "cell_type": "code",
      "source": [
        "%pyspark\n",
        "\n",
        "# View min and max dates for Closed Date\n",
        "df.select(min(\"Closed Date\"),max(\"Closed Date\")).show(df.count(), False)"
      ],
      "metadata": {
        "id": "8ttlurk1r0gb"
      },
      "execution_count": null,
      "outputs": []
    },
    {
      "cell_type": "code",
      "source": [
        "%pyspark\n",
        "\n",
        "# View min and max dates for Due Date\n",
        "df.select(min(\"Due Date\"),max(\"Due Date\")).show(df.count(), False)"
      ],
      "metadata": {
        "id": "XGLfr0m8r2EZ"
      },
      "execution_count": null,
      "outputs": []
    },
    {
      "cell_type": "code",
      "source": [
        "%pyspark\n",
        "\n",
        "# View min and max dates for Resolution Action Updated Date\n",
        "df.select(min(\"Resolution Action Updated Date\"),max(\"Resolution Action Updated Date\")).show(df.count(), False)"
      ],
      "metadata": {
        "id": "cF9wfqBsr3b9"
      },
      "execution_count": null,
      "outputs": []
    },
    {
      "cell_type": "markdown",
      "source": [
        "## Conclusion\n",
        "\n",
        "In this notebook, we explored different aspects of our dataset and uncovered problems with the dataset that needs to be cleaned and improved. The next step is actually trying to clean and create a new version of the dataset."
      ],
      "metadata": {
        "id": "L0IGpJI4r5BP"
      }
    }
  ]
}