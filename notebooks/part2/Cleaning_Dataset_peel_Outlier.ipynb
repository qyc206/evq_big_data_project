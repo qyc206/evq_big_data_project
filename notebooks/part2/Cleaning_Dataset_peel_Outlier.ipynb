{
  "nbformat": 4,
  "nbformat_minor": 0,
  "metadata": {
    "colab": {
      "name": "Cleaning_Dataset_peel_Outlier.ipynb",
      "provenance": []
    },
    "kernelspec": {
      "name": "python3",
      "display_name": "Python 3"
    },
    "language_info": {
      "name": "python"
    }
  },
  "cells": [
    {
      "cell_type": "markdown",
      "source": [
        "# ****IMPORTANT NOTE:**\n",
        "\n",
        "This notebook is for VIEW ONLY. To test and run the notebook, please download, upload and run the zeppelin notebook on Peel: [Cleaning_Dataset_peel_Outlier.zpln](https://github.com/qyc206/evq_big_data_project/blob/main/notebooks/part2/Cleaning_Dataset_peel_Outlier.zpln)."
      ],
      "metadata": {
        "id": "O2nsyjk-Sim2"
      }
    },
    {
      "cell_type": "markdown",
      "source": [
        "## V. Outlier\n",
        "\n",
        "As shown in our profiling, there are several outliers in three columns of timestamp type: \"Closed Date\", \"Due Date\", and \"Resolution Action Updated Date\". We want to filter out rows with dates that should not belong in the dataset (aka any date from the year before 2010 and any date after 2021). We want to filter the data out rather than try to fix it because there would be no way to find out the correct dates for these outliers. \n",
        "\n",
        "**NOTE:** There is a count between each filtering to show the amount the filter affects the dataset.\n",
        "\n",
        "The results are also shown after each filtering. It can be observed that the date ranges are now reasonable (i.e. between 2010 and present/2021). \n"
      ],
      "metadata": {
        "id": "InXNhYBeSxpc"
      }
    },
    {
      "cell_type": "markdown",
      "source": [
        "## Upload the dataset to Peel cluster & Define dataset path\n",
        "\n",
        "Before continuing, make sure your dataset is available on Peel HDFS. If your dataset is on your local machine, you can copy them to the login node of the cluster and move them to your user directory in the HDFS using the following commands:\n",
        "\n",
        "```\n",
        "# Copy file from local machine to login node of the cluster\n",
        "mylaptop$ scp -r [FILENAME] <net_id>@peel.hpc.nyu.edu:~/\n",
        "\n",
        "# Move file from cluster login node to your user directory in HDFS \n",
        "# (your file will be in the path \"/user/[netid]/[FILENAME]\")\n",
        "hfs -put [FILENAME]\n",
        "```\n",
        "\n",
        "Make sure you can locate your dataset before continuing onwards."
      ],
      "metadata": {
        "id": "bIv_09T6S1Qu"
      }
    },
    {
      "cell_type": "code",
      "execution_count": null,
      "metadata": {
        "id": "2vBKYPFzSBlI"
      },
      "outputs": [],
      "source": [
        "%pyspark\n",
        "# Define path to dataset on Peel HDFS (NOTE: replace file name with your own if different)\n",
        "dataset_path = \"/user/CS-GY-6513/project_data/data-cityofnewyork-us.erm2-nwe9.csv\""
      ]
    },
    {
      "cell_type": "markdown",
      "source": [
        "## Set up Spark Session\n",
        "\n",
        "Now that the dataset is uploaded and the path is defined, we need to set up pyspark to begin profiling and exploring our dataset. \n",
        "\n",
        "If this notebook is run in an environment where pyspark is not yet installed, please add a new cell BEFORE the next cell and run the following command:\n",
        "\n",
        "```\n",
        "# Run this command if pyspark is not already installed\n",
        "%pip install pyspark\n",
        "```"
      ],
      "metadata": {
        "id": "zQqcb7t1S5yo"
      }
    },
    {
      "cell_type": "code",
      "source": [
        "%pyspark\n",
        "\n",
        "# Set up pyspark session\n",
        "from pyspark.sql import SparkSession\n",
        "\n",
        "spark = SparkSession \\\n",
        "            .builder \\\n",
        "            .appName(\"Python Spark SQL basic example\") \\\n",
        "            .config(\"spark.some.config.option\", \"some-value\") \\\n",
        "            .config(\"spark.executor.memory\", \"35g\") \\\n",
        "            .config(\"spark.driver.memory\", \"35g\") \\\n",
        "            .getOrCreate()"
      ],
      "metadata": {
        "id": "IAg3urGUS8C4"
      },
      "execution_count": null,
      "outputs": []
    },
    {
      "cell_type": "markdown",
      "source": [
        "## Load dataset using spark\n",
        "\n",
        "Run the following lines to load the dataset using spark and test to make sure that dataset is properly loaded."
      ],
      "metadata": {
        "id": "kZjWF0kNS-ZV"
      }
    },
    {
      "cell_type": "code",
      "source": [
        "%pyspark\n",
        "\n",
        "# Load dataset\n",
        "df = spark.read.format('csv').options(header='true',inferschema='true').load(dataset_path)\n",
        "# (Note: change \"311_service_report\" to a name that better suits your dataset, if different)\n",
        "df.createOrReplaceTempView(\"311_service_report\") "
      ],
      "metadata": {
        "id": "exOWxwhETF5O"
      },
      "execution_count": null,
      "outputs": []
    },
    {
      "cell_type": "markdown",
      "source": [
        "### Generalizing Formatting\n",
        "\n",
        "For many datasets, to optimally find information about any column that involves time, the column type must be turned into a timestamp type. However, to turn a column type into a timestamp, the data within the column must match the format that is specified when calling the to_timestamp() function ( to_timestamp(dataset[column], format) ). Therefore, it is best to be able to generalize this part of formating to make sure all our date columns are uniforom. This is even more essential since some of our solutions involve dates."
      ],
      "metadata": {
        "id": "MwRcutheTIFI"
      }
    },
    {
      "cell_type": "code",
      "source": [
        "%pyspark\n",
        "\n",
        "def formatDate(dataset, col, DateForm):\n",
        "    formatedData = dataset.withColumn(col,to_timestamp(dataset[col],DateForm))\n",
        "    return formatedData"
      ],
      "metadata": {
        "id": "g5TFMTAWTKdL"
      },
      "execution_count": null,
      "outputs": []
    },
    {
      "cell_type": "code",
      "source": [
        "%pyspark\n",
        "\n",
        "from pyspark.sql.types import IntegerType, DoubleType\n",
        "from pyspark.sql.functions import to_timestamp\n",
        "\n",
        "# Type casting to expected types\n",
        "df = df.withColumn(\"Unique Key\",df[\"Unique Key\"].cast(IntegerType()))\n",
        "df = formatDate(df,\"Due Date\",\"MM/dd/yyyy hh:mm:ss a\")\n",
        "df = formatDate(df,\"Created Date\",\"MM/dd/yyyy hh:mm:ss a\")\n",
        "df = formatDate(df,\"Closed Date\",\"MM/dd/yyyy hh:mm:ss a\")\n",
        "df = df.withColumn(\"Incident Zip\",df[\"Incident Zip\"].cast(IntegerType()))\n",
        "df = df.withColumn(\"BBL\",df[\"BBL\"].cast(IntegerType()))\n",
        "df = df.withColumn(\"X Coordinate (State Plane)\",df[\"X Coordinate (State Plane)\"].cast(IntegerType()))\n",
        "df = df.withColumn(\"Y Coordinate (State Plane)\",df[\"Y Coordinate (State Plane)\"].cast(IntegerType()))\n",
        "df = formatDate(df,\"Resolution Action Updated Date\",\"MM/dd/yyyy hh:mm:ss a\")\n",
        "\n",
        "\n",
        "# (Note: change \"311_service_report\" to a name that better suits your dataset, if different)\n",
        "df.createOrReplaceTempView(\"311_service_report\")\n",
        "\n",
        "df.printSchema()"
      ],
      "metadata": {
        "id": "eEB1V2d7TM4A"
      },
      "execution_count": null,
      "outputs": []
    },
    {
      "cell_type": "code",
      "source": [
        "%pyspark\n",
        "\n",
        "# Run to remove cache\n",
        "df.unpersist()"
      ],
      "metadata": {
        "id": "o42wF5P7TO3V"
      },
      "execution_count": null,
      "outputs": []
    },
    {
      "cell_type": "markdown",
      "source": [
        "## Cleaning\n",
        "\n",
        "Now that pyspark is set up and the columns of the dataset are updated to types that we expect, we can start using pyspark to explore and clean the dataset!"
      ],
      "metadata": {
        "id": "X_qd3b2pTQ6a"
      }
    },
    {
      "cell_type": "code",
      "source": [
        "%pyspark\n",
        "\n",
        "from pyspark.sql import Row\n",
        "from pyspark.sql.functions import min, max"
      ],
      "metadata": {
        "id": "HinHY9LKTRps"
      },
      "execution_count": null,
      "outputs": []
    },
    {
      "cell_type": "markdown",
      "source": [
        "This specific error is one of the more prevalent errors found amongst the datasets. Therefore, we provide here a generalized version of the code that allows this simple error fix to be run on other datasets given the dataframe, min and max dates, and column name.\n",
        "\n",
        "To also work for specific cases where we only need to filter min OR max dates and not both, specific functions were made to deal with this"
      ],
      "metadata": {
        "id": "wtit5usMTe77"
      }
    },
    {
      "cell_type": "markdown",
      "source": [
        "### Generalized functions"
      ],
      "metadata": {
        "id": "2pVIESh7Tiri"
      }
    },
    {
      "cell_type": "code",
      "source": [
        "%pyspark\n",
        "\n",
        "def removeOutlierDates(df,minDate,maxDate, col):\n",
        "    df = df.filter(df[col].isNull() | (year(col) >= minDate) & (year(col) <= maxDate))\n",
        "    return df\n",
        "\n",
        "def filterMinOnlyDates(df,minDate,maxDate, col):\n",
        "    df = df.filter(df[col].isNull() | (year(col) >= minDate))\n",
        "    return df\n",
        "\n",
        "def filterMaxOnlyDates(df, maxDate, col):\n",
        "    df = df.filter(df[col].isNull() |  (year(col) <= maxDate))\n",
        "    return df"
      ],
      "metadata": {
        "id": "rQtJOOKoThFm"
      },
      "execution_count": null,
      "outputs": []
    },
    {
      "cell_type": "markdown",
      "source": [
        "### Closed Date column"
      ],
      "metadata": {
        "id": "FXh9NARfTnFh"
      }
    },
    {
      "cell_type": "code",
      "source": [
        "%pyspark\n",
        "\n",
        "# Fixing dates from Closed Date\n",
        "from pyspark.sql.functions import year, desc\n",
        "\n",
        "df = removeOutlierDates(df, 2018, 2021, \"Closed Date\")"
      ],
      "metadata": {
        "id": "TJkfjvnKTpvY"
      },
      "execution_count": null,
      "outputs": []
    },
    {
      "cell_type": "code",
      "source": [
        "%pyspark\n",
        "\n",
        "# Display results\n",
        "df.select(min(\"Closed Date\"),max(\"Closed Date\")).show(df.count(), False)"
      ],
      "metadata": {
        "id": "m5BurEEmTu4u"
      },
      "execution_count": null,
      "outputs": []
    },
    {
      "cell_type": "code",
      "source": [
        "%pyspark\n",
        "\n",
        "# Count of the number of overall rows currently in the data\n",
        "df.count()"
      ],
      "metadata": {
        "id": "2aqlQQ1KTwzM"
      },
      "execution_count": null,
      "outputs": []
    },
    {
      "cell_type": "markdown",
      "source": [
        "### Due Date column"
      ],
      "metadata": {
        "id": "cwDuVdbpTyjx"
      }
    },
    {
      "cell_type": "code",
      "source": [
        "%pyspark\n",
        "\n",
        "# Fixing dates from Due Dates\n",
        "from pyspark.sql.functions import year, desc\n",
        "\n",
        "df = removeOutlierDates(df, 2018, 2021, \"Due Date\")"
      ],
      "metadata": {
        "id": "ohgKtCCST1el"
      },
      "execution_count": null,
      "outputs": []
    },
    {
      "cell_type": "code",
      "source": [
        "%pyspark\n",
        "\n",
        "# Display results\n",
        "df.select(min(\"Due Date\"),max(\"Due Date\")).show(df.count(), False)"
      ],
      "metadata": {
        "id": "-9DIFOOzT6Z7"
      },
      "execution_count": null,
      "outputs": []
    },
    {
      "cell_type": "code",
      "source": [
        "%pyspark\n",
        "\n",
        "# Count of the number of overall rows currently in the data to check we didn't get rid of too many rows\n",
        "df.count()"
      ],
      "metadata": {
        "id": "66Hg2EMmT75U"
      },
      "execution_count": null,
      "outputs": []
    },
    {
      "cell_type": "markdown",
      "source": [
        "### Resolution Action Updated Date column"
      ],
      "metadata": {
        "id": "5cOtDiPgT9m6"
      }
    },
    {
      "cell_type": "code",
      "source": [
        "%pyspark\n",
        "\n",
        "# Fixing dates from Resolution Action Updated Date\n",
        "from pyspark.sql.functions import year, desc\n",
        "\n",
        "df = removeOutlierDates(df, 2018, 2021, \"Resolution Action Updated Date\")"
      ],
      "metadata": {
        "id": "88WLCAIbT_as"
      },
      "execution_count": null,
      "outputs": []
    },
    {
      "cell_type": "code",
      "source": [
        "%pyspark\n",
        "\n",
        "# Display results\n",
        "df.select(min(\"Resolution Action Updated Date\"),max(\"Resolution Action Updated Date\")).show(df.count(), False)"
      ],
      "metadata": {
        "id": "4Vfq0q-TUBwu"
      },
      "execution_count": null,
      "outputs": []
    },
    {
      "cell_type": "code",
      "source": [
        "%pyspark\n",
        "\n",
        "# Count of the number of overall rows currently in the data\n",
        "df.count()"
      ],
      "metadata": {
        "id": "4QlTgX1gUDyw"
      },
      "execution_count": null,
      "outputs": []
    }
  ]
}